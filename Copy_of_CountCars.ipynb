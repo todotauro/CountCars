{
  "nbformat": 4,
  "nbformat_minor": 0,
  "metadata": {
    "colab": {
      "name": "Copy of CountCars",
      "provenance": [],
      "collapsed_sections": [],
      "authorship_tag": "ABX9TyMgtspENaZsxF3WAYftJq+e",
      "include_colab_link": true
    },
    "kernelspec": {
      "name": "python3",
      "display_name": "Python 3"
    },
    "language_info": {
      "name": "python"
    }
  },
  "cells": [
    {
      "cell_type": "markdown",
      "metadata": {
        "id": "view-in-github",
        "colab_type": "text"
      },
      "source": [
        "<a href=\"https://colab.research.google.com/github/todotauro/CountCars/blob/main/Copy_of_CountCars.ipynb\" target=\"_parent\"><img src=\"https://colab.research.google.com/assets/colab-badge.svg\" alt=\"Open In Colab\"/></a>"
      ]
    },
    {
      "cell_type": "code",
      "source": [
        "!git clone https://github.com/todotauro/vehicle_counting_tensorflow.git"
      ],
      "metadata": {
        "id": "uYCNP3byDKK0"
      },
      "execution_count": null,
      "outputs": []
    },
    {
      "cell_type": "code",
      "source": [
        "%cd vehicle_counting_tensorflow/\n",
        "!pip install -r requirements.txt"
      ],
      "metadata": {
        "id": "34h6sLQ95fKq"
      },
      "execution_count": null,
      "outputs": []
    },
    {
      "cell_type": "code",
      "source": [
        "!pip install -Uqq ipdb\n",
        "!pip install tensorflow-gpu\n",
        "!sudo apt-get install python-pil python-numpy\n",
        "!pip install --user jupyter\n",
        "!pip install --user matplotlib\n",
        "!pip install --user PrettyTable\n",
        "!pip install git+https://github.com/cocodataset/panopticapi.git"
      ],
      "metadata": {
        "id": "s4But7cJQvJ8"
      },
      "execution_count": null,
      "outputs": []
    },
    {
      "cell_type": "code",
      "source": [
        "!python3 vehicle_detection_main.py imwrite"
      ],
      "metadata": {
        "id": "c1k7eJuAN5JX"
      },
      "execution_count": null,
      "outputs": []
    }
  ]
}