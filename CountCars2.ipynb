{
  "nbformat": 4,
  "nbformat_minor": 0,
  "metadata": {
    "colab": {
      "name": "CountCars2.ipynb",
      "provenance": [],
      "toc_visible": true,
      "authorship_tag": "ABX9TyNTlcXN74di4s2+mddDdRfT",
      "include_colab_link": true
    },
    "kernelspec": {
      "name": "python3",
      "display_name": "Python 3"
    },
    "language_info": {
      "name": "python"
    },
    "accelerator": "GPU"
  },
  "cells": [
    {
      "cell_type": "markdown",
      "metadata": {
        "id": "view-in-github",
        "colab_type": "text"
      },
      "source": [
        "<a href=\"https://colab.research.google.com/github/todotauro/CountCars/blob/main/CountCars2.ipynb\" target=\"_parent\"><img src=\"https://colab.research.google.com/assets/colab-badge.svg\" alt=\"Open In Colab\"/></a>"
      ]
    },
    {
      "cell_type": "code",
      "execution_count": 1,
      "metadata": {
        "colab": {
          "base_uri": "https://localhost:8080/"
        },
        "id": "bHWR9RejQz3c",
        "outputId": "11e1a70a-b688-458e-ca2d-56fb7a709526"
      },
      "outputs": [
        {
          "output_type": "stream",
          "name": "stdout",
          "text": [
            "fatal: repository 'CountCars' does not exist\n"
          ]
        }
      ],
      "source": [
        "!git clone CountCars https://github.com/todotauro/CountCars.git"
      ]
    },
    {
      "cell_type": "code",
      "source": [
        "%cd vehicle_counting_tensorflow\n",
        "!pip install requirements\n"
      ],
      "metadata": {
        "id": "yLnv-CuTRTRQ"
      },
      "execution_count": null,
      "outputs": []
    }
  ]
}