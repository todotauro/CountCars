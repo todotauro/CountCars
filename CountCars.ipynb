{
  "nbformat": 4,
  "nbformat_minor": 0,
  "metadata": {
    "colab": {
      "name": "CountCars",
      "provenance": [],
      "collapsed_sections": [],
      "authorship_tag": "ABX9TyPA7T3KPYdon4T8OiaWZHga",
      "include_colab_link": true
    },
    "kernelspec": {
      "name": "python3",
      "display_name": "Python 3"
    },
    "language_info": {
      "name": "python"
    }
  },
  "cells": [
    {
      "cell_type": "markdown",
      "metadata": {
        "id": "view-in-github",
        "colab_type": "text"
      },
      "source": [
        "<a href=\"https://colab.research.google.com/github/todotauro/CountCars/blob/main/CountCars.ipynb\" target=\"_parent\"><img src=\"https://colab.research.google.com/assets/colab-badge.svg\" alt=\"Open In Colab\"/></a>"
      ]
    },
    {
      "cell_type": "code",
      "source": [
        "!git clone https://github.com/todotauro/CountCars.git"
      ],
      "metadata": {
        "id": "uYCNP3byDKK0",
        "colab": {
          "base_uri": "https://localhost:8080/"
        },
        "outputId": "7183ccfc-dd11-4a73-fc30-2bf7f7dc91c7"
      },
      "execution_count": 3,
      "outputs": [
        {
          "output_type": "stream",
          "name": "stdout",
          "text": [
            "fatal: destination path 'CountCars' already exists and is not an empty directory.\n"
          ]
        }
      ]
    },
    {
      "cell_type": "code",
      "source": [
        "!git clone "
      ],
      "metadata": {
        "id": "s4But7cJQvJ8"
      },
      "execution_count": null,
      "outputs": []
    }
  ]
}