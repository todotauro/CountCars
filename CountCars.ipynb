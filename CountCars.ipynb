{
  "nbformat": 4,
  "nbformat_minor": 0,
  "metadata": {
    "colab": {
      "name": "CountCars",
      "provenance": [],
      "collapsed_sections": [],
      "authorship_tag": "ABX9TyO90EJ7mRB1J5z/TSSgOgjo",
      "include_colab_link": true
    },
    "kernelspec": {
      "name": "python3",
      "display_name": "Python 3"
    },
    "language_info": {
      "name": "python"
    }
  },
  "cells": [
    {
      "cell_type": "markdown",
      "metadata": {
        "id": "view-in-github",
        "colab_type": "text"
      },
      "source": [
        "<a href=\"https://colab.research.google.com/github/todotauro/CountCars/blob/main/CountCars.ipynb\" target=\"_parent\"><img src=\"https://colab.research.google.com/assets/colab-badge.svg\" alt=\"Open In Colab\"/></a>"
      ]
    },
    {
      "cell_type": "code",
      "source": [
        "!git clone https://github.com/todotauro/CountCars.git"
      ],
      "metadata": {
        "id": "uYCNP3byDKK0",
        "colab": {
          "base_uri": "https://localhost:8080/"
        },
        "outputId": "d3af8261-92aa-4134-ff76-bd297b925ce1"
      },
      "execution_count": 1,
      "outputs": [
        {
          "output_type": "stream",
          "name": "stdout",
          "text": [
            "Cloning into 'CountCars'...\n",
            "remote: Enumerating objects: 117, done.\u001b[K\n",
            "remote: Counting objects: 100% (10/10), done.\u001b[K\n",
            "remote: Compressing objects: 100% (10/10), done.\u001b[K\n",
            "remote: Total 117 (delta 3), reused 0 (delta 0), pack-reused 107\u001b[K\n",
            "Receiving objects: 100% (117/117), 9.19 MiB | 19.37 MiB/s, done.\n",
            "Resolving deltas: 100% (20/20), done.\n"
          ]
        }
      ]
    }
  ]
}