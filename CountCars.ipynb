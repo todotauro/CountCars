{
  "nbformat": 4,
  "nbformat_minor": 0,
  "metadata": {
    "colab": {
      "name": "CountCars",
      "provenance": [],
      "collapsed_sections": [],
      "authorship_tag": "ABX9TyOqUwN8NcrsrNddSm98JWq0",
      "include_colab_link": true
    },
    "kernelspec": {
      "name": "python3",
      "display_name": "Python 3"
    },
    "language_info": {
      "name": "python"
    },
    "accelerator": "GPU"
  },
  "cells": [
    {
      "cell_type": "markdown",
      "metadata": {
        "id": "view-in-github",
        "colab_type": "text"
      },
      "source": [
        "<a href=\"https://colab.research.google.com/github/todotauro/CountCars/blob/main/CountCars.ipynb\" target=\"_parent\"><img src=\"https://colab.research.google.com/assets/colab-badge.svg\" alt=\"Open In Colab\"/></a>"
      ]
    },
    {
      "cell_type": "code",
      "execution_count": null,
      "metadata": {
        "id": "PmpLZtsGAvd6",
        "colab": {
          "base_uri": "https://localhost:8080/"
        },
        "outputId": "b794f41c-8519-4cb9-96fa-7cc37828432f"
      },
      "outputs": [
        {
          "output_type": "stream",
          "name": "stderr",
          "text": [
            "UsageError: Line magic function `%CD` not found.\n"
          ]
        }
      ],
      "source": [
        "%CD CountCars/"
      ]
    },
    {
      "cell_type": "code",
      "source": [
        ""
      ],
      "metadata": {
        "colab": {
          "base_uri": "https://localhost:8080/"
        },
        "id": "gaQLZVydDHfv",
        "outputId": "a54eb20a-2d0c-46b4-84a3-c52dd7b678ac"
      },
      "execution_count": null,
      "outputs": [
        {
          "output_type": "stream",
          "name": "stdout",
          "text": [
            "/content/CountCars\n"
          ]
        }
      ]
    },
    {
      "cell_type": "code",
      "source": [
        ""
      ],
      "metadata": {
        "id": "uYCNP3byDKK0"
      },
      "execution_count": null,
      "outputs": []
    }
  ]
}